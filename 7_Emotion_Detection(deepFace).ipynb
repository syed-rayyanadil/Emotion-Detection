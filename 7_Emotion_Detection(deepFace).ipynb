{
  "nbformat": 4,
  "nbformat_minor": 0,
  "metadata": {
    "colab": {
      "name": "Emotion_Detection(deepFace).ipynb",
      "provenance": []
    },
    "kernelspec": {
      "name": "python3",
      "display_name": "Python 3"
    },
    "language_info": {
      "name": "python"
    }
  },
  "cells": [
    {
      "cell_type": "code",
      "metadata": {
        "colab": {
          "base_uri": "https://localhost:8080/",
          "height": 296
        },
        "id": "QQAwKuH6qDU6",
        "outputId": "4da2948f-1ccc-4489-b46d-66aca89281c1"
      },
      "source": [
        "from deepface import DeepFace"
      ],
      "execution_count": 1,
      "outputs": [
        {
          "output_type": "error",
          "ename": "ModuleNotFoundError",
          "evalue": "ignored",
          "traceback": [
            "\u001b[0;31m---------------------------------------------------------------------------\u001b[0m",
            "\u001b[0;31mModuleNotFoundError\u001b[0m                       Traceback (most recent call last)",
            "\u001b[0;32m<ipython-input-1-9992a767273a>\u001b[0m in \u001b[0;36m<module>\u001b[0;34m()\u001b[0m\n\u001b[0;32m----> 1\u001b[0;31m \u001b[0;32mfrom\u001b[0m \u001b[0mdeepface\u001b[0m \u001b[0;32mimport\u001b[0m \u001b[0mDeepFace\u001b[0m\u001b[0;34m\u001b[0m\u001b[0;34m\u001b[0m\u001b[0m\n\u001b[0m",
            "\u001b[0;31mModuleNotFoundError\u001b[0m: No module named 'deepface'",
            "",
            "\u001b[0;31m---------------------------------------------------------------------------\u001b[0;32m\nNOTE: If your import is failing due to a missing package, you can\nmanually install dependencies using either !pip or !apt.\n\nTo view examples of installing some common dependencies, click the\n\"Open Examples\" button below.\n\u001b[0;31m---------------------------------------------------------------------------\u001b[0m\n"
          ]
        }
      ]
    },
    {
      "cell_type": "code",
      "metadata": {
        "id": "RsnGamxUqzMS"
      },
      "source": [
        "pip install deepface"
      ],
      "execution_count": null,
      "outputs": []
    },
    {
      "cell_type": "code",
      "metadata": {
        "id": "zasIRIVsrAIh"
      },
      "source": [
        ""
      ],
      "execution_count": 4,
      "outputs": []
    },
    {
      "cell_type": "code",
      "metadata": {
        "colab": {
          "base_uri": "https://localhost:8080/"
        },
        "id": "fCAcwIZ_rFgu",
        "outputId": "1ead5411-6994-44e6-cd70-08b886ebac3a"
      },
      "source": [
        "obj = DeepFace.analyze(img_path = \"/content/download.jpg\", actions = ['emotion'])\n",
        "print(obj[\"dominant_emotion\"])"
      ],
      "execution_count": 8,
      "outputs": [
        {
          "output_type": "stream",
          "text": [
            "\n",
            "Finding actions:   0%|          | 0/4 [00:00<?, ?it/s]\u001b[A\n",
            "Action: emotion:   0%|          | 0/4 [00:00<?, ?it/s]\u001b[A\n",
            "Action: emotion:  25%|██▌       | 1/4 [00:01<00:05,  1.89s/it]\u001b[A\n",
            "Action: age:  25%|██▌       | 1/4 [00:01<00:05,  1.89s/it]    \u001b[A\n",
            "Action: age:  50%|█████     | 2/4 [00:02<00:03,  1.63s/it]\u001b[A\n",
            "Action: gender:  50%|█████     | 2/4 [00:02<00:03,  1.63s/it]\u001b[A\n",
            "Action: gender:  75%|███████▌  | 3/4 [00:03<00:01,  1.33s/it]\u001b[A\n",
            "Action: race:  75%|███████▌  | 3/4 [00:03<00:01,  1.33s/it]  \u001b[A\n",
            "Action: race: 100%|██████████| 4/4 [00:04<00:00,  1.04s/it]"
          ],
          "name": "stderr"
        },
        {
          "output_type": "stream",
          "text": [
            "happy\n"
          ],
          "name": "stdout"
        },
        {
          "output_type": "stream",
          "text": [
            "\n"
          ],
          "name": "stderr"
        }
      ]
    },
    {
      "cell_type": "code",
      "metadata": {
        "id": "_j-N1WvkrHOr"
      },
      "source": [
        ""
      ],
      "execution_count": null,
      "outputs": []
    }
  ]
}